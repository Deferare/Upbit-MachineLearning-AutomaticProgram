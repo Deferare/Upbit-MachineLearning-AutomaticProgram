{
 "cells": [
  {
   "cell_type": "code",
   "execution_count": 7,
   "id": "3e37fde6",
   "metadata": {},
   "outputs": [
    {
     "ename": "RuntimeError",
     "evalue": "asyncio.run() cannot be called from a running event loop",
     "output_type": "error",
     "traceback": [
      "\u001b[0;31m---------------------------------------------------------------------------\u001b[0m",
      "\u001b[0;31mRuntimeError\u001b[0m                              Traceback (most recent call last)",
      "\u001b[0;32m/var/folders/fm/z9jl47_n7qq3sq70q59sv6qc0000gn/T/ipykernel_51727/451294889.py\u001b[0m in \u001b[0;36m<module>\u001b[0;34m\u001b[0m\n\u001b[1;32m     32\u001b[0m \u001b[0;32masync\u001b[0m \u001b[0;32mdef\u001b[0m \u001b[0mmain\u001b[0m\u001b[0;34m(\u001b[0m\u001b[0;34m)\u001b[0m\u001b[0;34m:\u001b[0m\u001b[0;34m\u001b[0m\u001b[0;34m\u001b[0m\u001b[0m\n\u001b[1;32m     33\u001b[0m     \u001b[0;32mawait\u001b[0m \u001b[0mupbit_client\u001b[0m\u001b[0;34m(\u001b[0m\u001b[0;34m)\u001b[0m\u001b[0;34m\u001b[0m\u001b[0;34m\u001b[0m\u001b[0m\n\u001b[0;32m---> 34\u001b[0;31m \u001b[0masyncio\u001b[0m\u001b[0;34m.\u001b[0m\u001b[0mrun\u001b[0m\u001b[0;34m(\u001b[0m\u001b[0mmain\u001b[0m\u001b[0;34m(\u001b[0m\u001b[0;34m)\u001b[0m\u001b[0;34m)\u001b[0m\u001b[0;34m\u001b[0m\u001b[0;34m\u001b[0m\u001b[0m\n\u001b[0m",
      "\u001b[0;32m~/miniforge3/envs/Upbit-MachineLearning-AutomaticProgram/lib/python3.9/asyncio/runners.py\u001b[0m in \u001b[0;36mrun\u001b[0;34m(main, debug)\u001b[0m\n\u001b[1;32m     31\u001b[0m     \"\"\"\n\u001b[1;32m     32\u001b[0m     \u001b[0;32mif\u001b[0m \u001b[0mevents\u001b[0m\u001b[0;34m.\u001b[0m\u001b[0m_get_running_loop\u001b[0m\u001b[0;34m(\u001b[0m\u001b[0;34m)\u001b[0m \u001b[0;32mis\u001b[0m \u001b[0;32mnot\u001b[0m \u001b[0;32mNone\u001b[0m\u001b[0;34m:\u001b[0m\u001b[0;34m\u001b[0m\u001b[0;34m\u001b[0m\u001b[0m\n\u001b[0;32m---> 33\u001b[0;31m         raise RuntimeError(\n\u001b[0m\u001b[1;32m     34\u001b[0m             \"asyncio.run() cannot be called from a running event loop\")\n\u001b[1;32m     35\u001b[0m \u001b[0;34m\u001b[0m\u001b[0m\n",
      "\u001b[0;31mRuntimeError\u001b[0m: asyncio.run() cannot be called from a running event loop"
     ]
    }
   ],
   "source": [
    "# import pandas as pd\n",
    "import websockets\n",
    "import asyncio\n",
    "import json\n",
    "\n",
    "\n",
    "# df = pd.DataFrame(columns=[\"Open\", \"High\", \"Low\", \"Close\"])\n",
    "\n",
    "# op hp lp tp tv\n",
    "async def upbit_client():\n",
    "    uri = \"wss://api.upbit.com/websocket/v1\"\n",
    "    async with websockets.connect(uri) as websocket:\n",
    "        subscribe_fmt = [\n",
    "            {\"ticket\":\"test\"},\n",
    "            {\n",
    "                \"type\": \"ticker\",\n",
    "                \"codes\":[\"KRW-BTC\"],\n",
    "                \"isOnlyRealtime\": True\n",
    "            },\n",
    "            {\"format\":\"SIMPLE\"}\n",
    "        ]\n",
    "        subscribe_data = json.dumps(subscribe_fmt)\n",
    "        await websocket.send(subscribe_data)\n",
    "\n",
    "        while True:\n",
    "            data = await websocket.recv()\n",
    "            data = json.loads(data)\n",
    "\n",
    "            # df.append(data[\"op\"], data[\"hp\"], data[\"lp\"], data[\"tp\"])\n",
    "            # print(df)\n",
    "\n",
    "async def main():\n",
    "    await upbit_client()\n",
    "asyncio.run(main())"
   ]
  },
  {
   "cell_type": "code",
   "execution_count": null,
   "id": "38555fec",
   "metadata": {},
   "outputs": [],
   "source": []
  }
 ],
 "metadata": {
  "kernelspec": {
   "display_name": "Python 3 (ipykernel)",
   "language": "python",
   "name": "python3"
  },
  "language_info": {
   "codemirror_mode": {
    "name": "ipython",
    "version": 3
   },
   "file_extension": ".py",
   "mimetype": "text/x-python",
   "name": "python",
   "nbconvert_exporter": "python",
   "pygments_lexer": "ipython3",
   "version": "3.9.6"
  }
 },
 "nbformat": 4,
 "nbformat_minor": 5
}
