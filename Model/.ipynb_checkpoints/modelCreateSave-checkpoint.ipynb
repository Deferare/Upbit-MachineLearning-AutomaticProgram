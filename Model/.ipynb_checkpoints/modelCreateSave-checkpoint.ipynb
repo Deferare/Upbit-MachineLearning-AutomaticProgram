{
 "cells": [
  {
   "cell_type": "code",
   "execution_count": 50,
   "id": "008f6878",
   "metadata": {},
   "outputs": [],
   "source": [
    "import tensorflow as tf\n",
    "import pandas as pd\n"
   ]
  },
  {
   "cell_type": "code",
   "execution_count": 48,
   "id": "4fd2c8b5",
   "metadata": {},
   "outputs": [
    {
     "name": "stdout",
     "output_type": "stream",
     "text": [
      "Running TensorFlow 2.5.0 with 1 GPUs recognized\n"
     ]
    },
    {
     "name": "stderr",
     "output_type": "stream",
     "text": [
      "2021-10-26 18:42:55.102335: I tensorflow/core/common_runtime/pluggable_device/pluggable_device_factory.cc:305] Could not identify NUMA node of platform GPU ID 0, defaulting to 0. Your kernel may not have been built with NUMA support.\n",
      "2021-10-26 18:42:55.102487: I tensorflow/core/common_runtime/pluggable_device/pluggable_device_factory.cc:271] Created TensorFlow device (/device:GPU:0 with 0 MB memory) -> physical PluggableDevice (device: 0, name: METAL, pci bus id: <undefined>)\n"
     ]
    },
    {
     "data": {
      "text/plain": [
       "[name: \"/device:CPU:0\"\n",
       " device_type: \"CPU\"\n",
       " memory_limit: 268435456\n",
       " locality {\n",
       " }\n",
       " incarnation: 9166570902534058892,\n",
       " name: \"/device:GPU:0\"\n",
       " device_type: \"GPU\"\n",
       " locality {\n",
       "   bus_id: 1\n",
       " }\n",
       " incarnation: 10219935693479439099\n",
       " physical_device_desc: \"device: 0, name: METAL, pci bus id: <undefined>\"]"
      ]
     },
     "execution_count": 48,
     "metadata": {},
     "output_type": "execute_result"
    }
   ],
   "source": [
    "from tensorflow.python.client import device_lib\n",
    "print(f\"Running TensorFlow {tf.__version__} with {len(tf.config.list_physical_devices('GPU'))} GPUs recognized\")\n",
    "device_lib.list_local_devices()"
   ]
  },
  {
   "cell_type": "code",
   "execution_count": 49,
   "id": "fc3603bb",
   "metadata": {},
   "outputs": [],
   "source": [
    "import matplotlib.pyplot as plt\n",
    "import numpy as np\n",
    "import tensorflow as tf\n",
    "import pandas as pd\n",
    "from PIL import Image\n",
    "from sklearn.model_selection import train_test_split\n",
    "from tensorflow.keras import layers\n",
    "from tensorflow.keras.models import Sequential\n",
    "import sys, os"
   ]
  },
  {
   "cell_type": "code",
   "execution_count": 18,
   "id": "eb232b1b",
   "metadata": {},
   "outputs": [
    {
     "name": "stdout",
     "output_type": "stream",
     "text": [
      "       0\n",
      "0      0\n",
      "1      1\n",
      "2      1\n",
      "3      0\n",
      "4      1\n",
      "...   ..\n",
      "10310  1\n",
      "10311  0\n",
      "10312  0\n",
      "10313  1\n",
      "10314  0\n",
      "\n",
      "[10315 rows x 1 columns]\n"
     ]
    },
    {
     "data": {
      "image/png": "[encoded data removed]",
      "text/plain": [
       "<Figure size 432x288 with 1 Axes>"
      ]
     },
     "metadata": {
      "needs_background": "light"
     },
     "output_type": "display_data"
    },
    {
     "name": "stdout",
     "output_type": "stream",
     "text": [
      "(10315, 138, 256, 3)\n",
      "(10315,)\n",
      "(8252, 138, 256, 3)   (8252,)\n"
     ]
    }
   ],
   "source": [
    "\n",
    "# Data load\n",
    "\n",
    "sys.setrecursionlimit(100000)\n",
    "\n",
    "lable_path = \"/Users/ubinyou/Documents/Task/Upbit-MachineLearning-AutomaticProgram/data/minute_5/minute_5_lable.xlsx\"\n",
    "labels = pd.read_excel(lable_path)\n",
    "images = []\n",
    "\n",
    "print(labels)\n",
    "\n",
    "for i in range(len(labels)):\n",
    "    image_path = f\"/Users/ubinyou/Documents/Task/Upbit-MachineLearning-AutomaticProgram/data/minute_5/{i}.jpg\"\n",
    "    image = Image.open(image_path)\n",
    "    image = Image.Image.resize(image,(256,138))\n",
    "    images.append(np.array(image)/255)\n",
    "plt.imshow(images[10])\n",
    "plt.show()\n",
    "\n",
    "images = np.array(images)\n",
    "labels = np.array(labels).reshape(-1,)\n",
    "print(images.shape)\n",
    "print(labels.shape)\n",
    "X_train, X_test, y_train, y_test = train_test_split(images, labels, test_size=0.2, random_state=1)\n",
    "print(X_train.shape, \" \", y_train.shape)"
   ]
  },
  {
   "cell_type": "code",
   "execution_count": 33,
   "id": "2e9a3d54",
   "metadata": {},
   "outputs": [
    {
     "name": "stdout",
     "output_type": "stream",
     "text": [
      "Epoch 1/7\n"
     ]
    },
    {
     "name": "stderr",
     "output_type": "stream",
     "text": [
      "2021-10-26 17:49:23.963313: I tensorflow/core/grappler/optimizers/custom_graph_optimizer_registry.cc:112] Plugin optimizer for device_type GPU is enabled.\n"
     ]
    },
    {
     "name": "stdout",
     "output_type": "stream",
     "text": [
      "258/258 [==============================] - 17s 62ms/step - loss: 0.6907 - acc: 0.5421\n",
      "Epoch 2/7\n",
      "258/258 [==============================] - 15s 59ms/step - loss: 0.6898 - acc: 0.5425\n",
      "Epoch 3/7\n",
      "258/258 [==============================] - 15s 57ms/step - loss: 0.6892 - acc: 0.5430\n",
      "Epoch 4/7\n",
      "258/258 [==============================] - 15s 57ms/step - loss: 0.6870 - acc: 0.5439\n",
      "Epoch 5/7\n",
      "258/258 [==============================] - 15s 58ms/step - loss: 0.6801 - acc: 0.5677\n",
      "Epoch 6/7\n",
      "258/258 [==============================] - 15s 60ms/step - loss: 0.6513 - acc: 0.6094\n",
      "Epoch 7/7\n",
      "258/258 [==============================] - 15s 59ms/step - loss: 0.5712 - acc: 0.7030\n"
     ]
    }
   ],
   "source": [
    "# Model build and train.\n",
    "\n",
    "model = Sequential([\n",
    "    # layers.experimental.preprocessing.Rescaling(input_shape=(250, 450, 3)),\n",
    "    layers.Conv2D(16, 3, activation='relu'),\n",
    "    layers.AveragePooling2D(),\n",
    "    layers.Conv2D(32, 3, activation='relu'),\n",
    "    layers.AveragePooling2D(),\n",
    "    layers.Conv2D(64, 3, activation='relu'),\n",
    "    layers.AveragePooling2D(),\n",
    "    layers.Flatten(),\n",
    "#     layers.Dense(128, activation=\"relu\"),\n",
    "    layers.Dense(64, activation=\"relu\"),\n",
    "    layers.Dense(32, activation=\"relu\"),\n",
    "    layers.Dense(1, activation=\"sigmoid\")\n",
    "])\n",
    "\n",
    "path = \"/Users/ubinyou/Documents/Task/Upbit-MachineLearning-AutomaticProgram/Model/minute5/2/minute5.h5\"\n",
    "# checkpoint_dir = os.path.dirname(checkpoint_path)\n",
    "# cp_callback = tf.keras.callbacks.ModelCheckpoint(filepath=checkpoint_dir,\n",
    "#                                    save_weights_only=True,\n",
    "#                                    verbose=1,\n",
    "#                                    period=3)\n",
    "\n",
    "model.compile(optimizer='adam',\n",
    "              loss=tf.keras.losses.BinaryCrossentropy(from_logits=True),\n",
    "              metrics=['acc'])\n",
    "\n",
    "model.fit(X_train, \n",
    "          y_train,\n",
    "#           batch_size=10,\n",
    "          epochs=7)\n",
    "\n",
    "model.save(path)"
   ]
  },
  {
   "cell_type": "code",
   "execution_count": 34,
   "id": "a3fb2aca",
   "metadata": {},
   "outputs": [
    {
     "name": "stdout",
     "output_type": "stream",
     "text": [
      "\r",
      "  1/323 [..............................] - ETA: 1:10 - loss: 0.4219 - acc: 0.8125"
     ]
    },
    {
     "name": "stderr",
     "output_type": "stream",
     "text": [
      "2021-10-26 17:51:16.694134: I tensorflow/core/grappler/optimizers/custom_graph_optimizer_registry.cc:112] Plugin optimizer for device_type GPU is enabled.\n"
     ]
    },
    {
     "name": "stdout",
     "output_type": "stream",
     "text": [
      "323/323 [==============================] - 9s 27ms/step - loss: 0.4973 - acc: 0.7675\n"
     ]
    },
    {
     "data": {
      "text/plain": [
       "[0.49725332856178284, 0.7675230503082275]"
      ]
     },
     "execution_count": 34,
     "metadata": {},
     "output_type": "execute_result"
    }
   ],
   "source": [
    "model.evaluate(images,  labels, verbose=1)"
   ]
  },
  {
   "cell_type": "code",
   "execution_count": 35,
   "id": "0b8526a3",
   "metadata": {},
   "outputs": [
    {
     "name": "stderr",
     "output_type": "stream",
     "text": [
      "2021-10-26 17:51:25.683894: I tensorflow/core/grappler/optimizers/custom_graph_optimizer_registry.cc:112] Plugin optimizer for device_type GPU is enabled.\n"
     ]
    },
    {
     "data": {
      "text/plain": [
       "array([[0.47327307],\n",
       "       [0.39493668],\n",
       "       [0.6063449 ],\n",
       "       [0.05013934],\n",
       "       [0.56298584],\n",
       "       [0.6290677 ],\n",
       "       [0.49894473],\n",
       "       [0.6677383 ],\n",
       "       [0.584298  ],\n",
       "       [0.6818045 ],\n",
       "       [0.6184697 ],\n",
       "       [0.45776823],\n",
       "       [0.5174142 ],\n",
       "       [0.3971444 ],\n",
       "       [0.87486947],\n",
       "       [0.76472664],\n",
       "       [0.42331406],\n",
       "       [0.9888636 ],\n",
       "       [0.7687839 ],\n",
       "       [0.6253296 ]], dtype=float32)"
      ]
     },
     "execution_count": 35,
     "metadata": {},
     "output_type": "execute_result"
    }
   ],
   "source": [
    "model.predict(images[:20])"
   ]
  },
  {
   "cell_type": "code",
   "execution_count": null,
   "id": "77b36828",
   "metadata": {},
   "outputs": [],
   "source": []
  }
 ],
 "metadata": {
  "kernelspec": {
   "display_name": "Python 3 (ipykernel)",
   "language": "python",
   "name": "python3"
  },
  "language_info": {
   "codemirror_mode": {
    "name": "ipython",
    "version": 3
   },
   "file_extension": ".py",
   "mimetype": "text/x-python",
   "name": "python",
   "nbconvert_exporter": "python",
   "pygments_lexer": "ipython3",
   "version": "3.9.6"
  }
 },
 "nbformat": 4,
 "nbformat_minor": 5
}
