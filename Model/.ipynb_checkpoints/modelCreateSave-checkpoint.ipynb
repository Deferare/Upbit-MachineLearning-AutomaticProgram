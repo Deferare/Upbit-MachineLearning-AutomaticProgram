{
 "cells": [
  {
   "cell_type": "code",
   "execution_count": 3,
   "id": "008f6878",
   "metadata": {},
   "outputs": [
    {
     "name": "stdout",
     "output_type": "stream",
     "text": [
      "Init Plugin\n",
      "Init Graph Optimizer\n",
      "Init Kernel\n"
     ]
    }
   ],
   "source": [
    "import tensorflow as tf\n",
    "import pandas as pd\n"
   ]
  },
  {
   "cell_type": "code",
   "execution_count": 4,
   "id": "4fd2c8b5",
   "metadata": {},
   "outputs": [
    {
     "name": "stdout",
     "output_type": "stream",
     "text": [
      "Running TensorFlow 2.5.0 with 1 GPUs recognized\n",
      "Metal device set to: Apple M1\n"
     ]
    },
    {
     "name": "stderr",
     "output_type": "stream",
     "text": [
      "2021-10-29 17:43:50.358073: I tensorflow/core/common_runtime/pluggable_device/pluggable_device_factory.cc:305] Could not identify NUMA node of platform GPU ID 0, defaulting to 0. Your kernel may not have been built with NUMA support.\n",
      "2021-10-29 17:43:50.358322: I tensorflow/core/common_runtime/pluggable_device/pluggable_device_factory.cc:271] Created TensorFlow device (/device:GPU:0 with 0 MB memory) -> physical PluggableDevice (device: 0, name: METAL, pci bus id: <undefined>)\n"
     ]
    },
    {
     "data": {
      "text/plain": [
       "[name: \"/device:CPU:0\"\n",
       " device_type: \"CPU\"\n",
       " memory_limit: 268435456\n",
       " locality {\n",
       " }\n",
       " incarnation: 13404502464752698158,\n",
       " name: \"/device:GPU:0\"\n",
       " device_type: \"GPU\"\n",
       " locality {\n",
       "   bus_id: 1\n",
       " }\n",
       " incarnation: 17081089486124715754\n",
       " physical_device_desc: \"device: 0, name: METAL, pci bus id: <undefined>\"]"
      ]
     },
     "execution_count": 4,
     "metadata": {},
     "output_type": "execute_result"
    }
   ],
   "source": [
    "from tensorflow.python.client import device_lib\n",
    "print(f\"Running TensorFlow {tf.__version__} with {len(tf.config.list_physical_devices('GPU'))} GPUs recognized\")\n",
    "device_lib.list_local_devices()"
   ]
  },
  {
   "cell_type": "code",
   "execution_count": 5,
   "id": "fc3603bb",
   "metadata": {},
   "outputs": [],
   "source": [
    "import matplotlib.pyplot as plt\n",
    "import numpy as np\n",
    "import tensorflow as tf\n",
    "import pandas as pd\n",
    "from PIL import Image\n",
    "from sklearn.model_selection import train_test_split\n",
    "from tensorflow.keras import layers\n",
    "from tensorflow.keras.models import Sequential\n",
    "import sys, os"
   ]
  },
  {
   "cell_type": "code",
   "execution_count": 6,
   "id": "eb232b1b",
   "metadata": {},
   "outputs": [
    {
     "name": "stdout",
     "output_type": "stream",
     "text": [
      "len(labels) :  57453\n",
      "11730\n",
      "14797\n",
      "13538\n",
      "11708\n",
      "2161\n",
      "3519\n",
      "len(images) :  57453\n"
     ]
    },
    {
     "data": {
      "image/png": "[encoded data removed]",
      "text/plain": [
       "<Figure size 432x288 with 1 Axes>"
      ]
     },
     "metadata": {
      "needs_background": "light"
     },
     "output_type": "display_data"
    }
   ],
   "source": [
    "# Data load\n",
    "sys.setrecursionlimit(100000)\n",
    "\n",
    "tickers = [\"BTC\", \"ETH\",\"ADA\", \"XRP\", \"DOGE\", \"DOT\"]\n",
    "labels = pd.DataFrame()\n",
    "images_len = []\n",
    "for ticker in tickers:\n",
    "    lable_path = f\"/Users/ubinyou/Documents/Task/Upbit-MachineLearning-AutomaticProgram/Model/data/({ticker})minut5_20c3s/labels.xlsx\"\n",
    "    labels_sub = pd.read_excel(lable_path)\n",
    "    images_len.append(len(labels_sub))\n",
    "    labels = pd.concat([labels, labels_sub])\n",
    "print(\"len(labels) : \",len(labels))\n",
    "\n",
    "images = []\n",
    "for ticker in tickers:\n",
    "    ln = images_len.pop(0)\n",
    "    print(ln)\n",
    "    for i in range(ln):\n",
    "        image_path = f\"/Users/ubinyou/Documents/Task/Upbit-MachineLearning-AutomaticProgram/Model/data/({ticker})minut5_20c3s/{i}.jpg\"\n",
    "        image = Image.open(image_path)\n",
    "        image = Image.Image.resize(image,(128,64))\n",
    "        images.append(np.array(image)/255)\n",
    "print(\"len(images) : \",len(images))\n",
    "plt.imshow(image)\n",
    "plt.show()\n",
    "\n"
   ]
  },
  {
   "cell_type": "code",
   "execution_count": 7,
   "id": "c4fab651",
   "metadata": {},
   "outputs": [
    {
     "name": "stdout",
     "output_type": "stream",
     "text": [
      "(57453, 64, 128, 3)\n",
      "(57453,)\n",
      "(45962, 64, 128, 3)   (45962,)\n"
     ]
    }
   ],
   "source": [
    "images = np.array(images)\n",
    "labels = np.array(labels).reshape(-1,)\n",
    "print(images.shape)\n",
    "print(labels.shape)\n",
    "X_train, X_test, y_train, y_test = train_test_split(images, labels, test_size=0.2, random_state=1)\n",
    "print(X_train.shape, \" \", y_train.shape)"
   ]
  },
  {
   "cell_type": "code",
   "execution_count": 8,
   "id": "2e9a3d54",
   "metadata": {},
   "outputs": [
    {
     "name": "stderr",
     "output_type": "stream",
     "text": [
      "2021-10-29 17:45:41.435347: I tensorflow/core/common_runtime/pluggable_device/pluggable_device_factory.cc:305] Could not identify NUMA node of platform GPU ID 0, defaulting to 0. Your kernel may not have been built with NUMA support.\n",
      "2021-10-29 17:45:41.435388: I tensorflow/core/common_runtime/pluggable_device/pluggable_device_factory.cc:271] Created TensorFlow device (/job:localhost/replica:0/task:0/device:GPU:0 with 0 MB memory) -> physical PluggableDevice (device: 0, name: METAL, pci bus id: <undefined>)\n",
      "2021-10-29 17:45:49.398848: I tensorflow/compiler/mlir/mlir_graph_optimization_pass.cc:176] None of the MLIR Optimization Passes are enabled (registered 2)\n",
      "2021-10-29 17:45:49.399758: W tensorflow/core/platform/profile_utils/cpu_utils.cc:128] Failed to get CPU frequency: 0 Hz\n",
      "/Users/ubinyou/miniforge3/envs/Upbit-MachineLearning-AutomaticProgram/lib/python3.9/site-packages/tensorflow/python/keras/backend.py:5016: UserWarning: \"`binary_crossentropy` received `from_logits=True`, but the `output` argument was produced by a sigmoid or softmax activation and thus does not represent logits. Was this intended?\"\n",
      "  warnings.warn(\n"
     ]
    },
    {
     "name": "stdout",
     "output_type": "stream",
     "text": [
      "Epoch 1/15\n"
     ]
    },
    {
     "name": "stderr",
     "output_type": "stream",
     "text": [
      "2021-10-29 17:45:49.676594: I tensorflow/core/grappler/optimizers/custom_graph_optimizer_registry.cc:112] Plugin optimizer for device_type GPU is enabled.\n"
     ]
    },
    {
     "name": "stdout",
     "output_type": "stream",
     "text": [
      "1437/1437 [==============================] - 25s 17ms/step - loss: 0.6921 - acc: 0.5175\n",
      "Epoch 2/15\n",
      "1437/1437 [==============================] - 25s 18ms/step - loss: 0.6885 - acc: 0.5420\n",
      "Epoch 3/15\n",
      "1437/1437 [==============================] - 25s 17ms/step - loss: 0.6846 - acc: 0.5530\n",
      "Epoch 4/15\n",
      "1437/1437 [==============================] - 25s 17ms/step - loss: 0.6799 - acc: 0.5610\n",
      "Epoch 5/15\n",
      "1437/1437 [==============================] - 26s 18ms/step - loss: 0.6727 - acc: 0.5777\n",
      "Epoch 6/15\n",
      "1437/1437 [==============================] - 27s 19ms/step - loss: 0.6615 - acc: 0.5979\n",
      "Epoch 7/15\n",
      "1437/1437 [==============================] - 30s 21ms/step - loss: 0.6448 - acc: 0.6226\n",
      "Epoch 8/15\n",
      "1437/1437 [==============================] - 26s 18ms/step - loss: 0.6196 - acc: 0.6520\n",
      "Epoch 9/15\n",
      "1437/1437 [==============================] - 26s 18ms/step - loss: 0.5870 - acc: 0.6824\n",
      "Epoch 10/15\n",
      "1437/1437 [==============================] - 26s 18ms/step - loss: 0.5472 - acc: 0.7157\n",
      "Epoch 11/15\n",
      "1437/1437 [==============================] - 27s 19ms/step - loss: 0.5047 - acc: 0.7458\n",
      "Epoch 12/15\n",
      "1437/1437 [==============================] - 26s 18ms/step - loss: 0.4579 - acc: 0.7761\n",
      "Epoch 13/15\n",
      "1437/1437 [==============================] - 28s 20ms/step - loss: 0.4096 - acc: 0.8072\n",
      "Epoch 14/15\n",
      "1437/1437 [==============================] - 27s 19ms/step - loss: 0.3623 - acc: 0.8347\n",
      "Epoch 15/15\n",
      "1437/1437 [==============================] - 27s 19ms/step - loss: 0.3197 - acc: 0.8566\n"
     ]
    }
   ],
   "source": [
    "# Model build and train.\n",
    "\n",
    "model = Sequential([\n",
    "    # layers.experimental.preprocessing.Rescaling(input_shape=(250, 450, 3)),\n",
    "    layers.Conv2D(16, 3, activation='relu'),\n",
    "    layers.AveragePooling2D(),\n",
    "    layers.Conv2D(32, 3, activation='relu'),\n",
    "    layers.AveragePooling2D(),\n",
    "    layers.Conv2D(64, 3, activation='relu'),\n",
    "    layers.AveragePooling2D(),\n",
    "    layers.Flatten(),\n",
    "#     layers.Dense(128, activation=\"relu\"),\n",
    "    layers.Dense(64, activation=\"relu\"),\n",
    "    layers.Dense(32, activation=\"relu\"),\n",
    "    layers.Dense(1, activation=\"sigmoid\")\n",
    "])\n",
    "\n",
    "path = \"/Users/ubinyou/Documents/Task/Upbit-MachineLearning-AutomaticProgram/Model/minut5_20c3s/2/myModel.h5\"\n",
    "# checkpoint_dir = os.path.dirname(checkpoint_path)\n",
    "# cp_callback = tf.keras.callbacks.ModelCheckpoint(filepath=checkpoint_dir,\n",
    "#                                    save_weights_only=True,\n",
    "#                                    verbose=1,\n",
    "#                                    period=3)\n",
    "\n",
    "model.compile(optimizer='adam',\n",
    "              loss=tf.keras.losses.BinaryCrossentropy(from_logits=True),\n",
    "              metrics=['acc'])\n",
    "\n",
    "model.fit(X_train, \n",
    "          y_train,\n",
    "#           batch_size=20,\n",
    "          epochs=15)\n",
    "\n",
    "model.save(path)"
   ]
  },
  {
   "cell_type": "code",
   "execution_count": 9,
   "id": "a3fb2aca",
   "metadata": {},
   "outputs": [
    {
     "name": "stdout",
     "output_type": "stream",
     "text": [
      "   6/1796 [..............................] - ETA: 24s - loss: 0.4562 - acc: 0.8542  "
     ]
    },
    {
     "name": "stderr",
     "output_type": "stream",
     "text": [
      "2021-10-29 17:52:35.291979: I tensorflow/core/grappler/optimizers/custom_graph_optimizer_registry.cc:112] Plugin optimizer for device_type GPU is enabled.\n"
     ]
    },
    {
     "name": "stdout",
     "output_type": "stream",
     "text": [
      "1796/1796 [==============================] - 18s 9ms/step - loss: 0.4627 - acc: 0.8268\n"
     ]
    },
    {
     "data": {
      "text/plain": [
       "[0.4626690745353699, 0.8267627358436584]"
      ]
     },
     "execution_count": 9,
     "metadata": {},
     "output_type": "execute_result"
    }
   ],
   "source": [
    "model.evaluate(images,  labels, verbose=1)"
   ]
  },
  {
   "cell_type": "code",
   "execution_count": 10,
   "id": "0b8526a3",
   "metadata": {},
   "outputs": [
    {
     "name": "stderr",
     "output_type": "stream",
     "text": [
      "2021-10-29 17:52:52.546084: I tensorflow/core/grappler/optimizers/custom_graph_optimizer_registry.cc:112] Plugin optimizer for device_type GPU is enabled.\n"
     ]
    },
    {
     "data": {
      "text/plain": [
       "array([[2.5973344e-04],\n",
       "       [7.8212816e-01],\n",
       "       [9.9920732e-01],\n",
       "       [9.9901462e-01],\n",
       "       [9.9999094e-01],\n",
       "       [9.9756658e-01],\n",
       "       [9.8864567e-01],\n",
       "       [1.1528455e-02],\n",
       "       [7.5804138e-01],\n",
       "       [8.7658477e-01],\n",
       "       [9.9829859e-01],\n",
       "       [8.8757086e-01],\n",
       "       [8.9509860e-02],\n",
       "       [9.5805371e-01],\n",
       "       [7.5956738e-01],\n",
       "       [9.2582220e-01],\n",
       "       [7.1536936e-03],\n",
       "       [2.8101290e-02],\n",
       "       [8.9193475e-01],\n",
       "       [9.9977273e-01],\n",
       "       [9.9892437e-01],\n",
       "       [1.3806485e-01],\n",
       "       [2.3584621e-01],\n",
       "       [8.4723383e-01],\n",
       "       [9.9646097e-01],\n",
       "       [9.9932837e-01],\n",
       "       [9.9216509e-01],\n",
       "       [9.5384324e-01],\n",
       "       [2.2088768e-01],\n",
       "       [8.5780501e-01]], dtype=float32)"
      ]
     },
     "execution_count": 10,
     "metadata": {},
     "output_type": "execute_result"
    }
   ],
   "source": [
    "model.predict(images[:30])"
   ]
  },
  {
   "cell_type": "code",
   "execution_count": 3,
   "id": "77b36828",
   "metadata": {},
   "outputs": [],
   "source": [
    "import tensorflow.keras as keras\n",
    "model_path = \"/Users/ubinyou/Documents/Task/Upbit-MachineLearning-AutomaticProgram/Model/minut5_20c3s/1/myModel.h5\" # 사용 할 모델.\n",
    "model = keras.models.load_model(model_path)\n"
   ]
  },
  {
   "cell_type": "code",
   "execution_count": null,
   "id": "8ef29809",
   "metadata": {},
   "outputs": [],
   "source": [
    "result = model.predict_on_batch(image)"
   ]
  }
 ],
 "metadata": {
  "kernelspec": {
   "display_name": "Python 3 (ipykernel)",
   "language": "python",
   "name": "python3"
  },
  "language_info": {
   "codemirror_mode": {
    "name": "ipython",
    "version": 3
   },
   "file_extension": ".py",
   "mimetype": "text/x-python",
   "name": "python",
   "nbconvert_exporter": "python",
   "pygments_lexer": "ipython3",
   "version": "3.9.6"
  }
 },
 "nbformat": 4,
 "nbformat_minor": 5
}
